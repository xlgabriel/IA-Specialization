{
  "nbformat": 4,
  "nbformat_minor": 0,
  "metadata": {
    "colab": {
      "provenance": []
    },
    "kernelspec": {
      "name": "python3",
      "display_name": "Python 3"
    },
    "language_info": {
      "name": "python"
    }
  },
  "cells": [
    {
      "cell_type": "code",
      "execution_count": 22,
      "metadata": {
        "id": "_cMvL46k9xH7"
      },
      "outputs": [],
      "source": [
        "import numpy as np\n",
        "import matplotlib.pyplot as plt"
      ]
    },
    {
      "cell_type": "code",
      "source": [
        "price = np.array([49,69,89,99,109])\n",
        "demand = np.array([124,95,71,45,18])"
      ],
      "metadata": {
        "id": "hIeMwu-m96Rm"
      },
      "execution_count": 3,
      "outputs": []
    },
    {
      "cell_type": "code",
      "source": [
        "y = demand.reshape(demand.shape[0],1)\n",
        "print(y)"
      ],
      "metadata": {
        "colab": {
          "base_uri": "https://localhost:8080/"
        },
        "id": "2gADQ2aH-NKU",
        "outputId": "bf464aeb-81dc-493d-a839-5d2ec770e176"
      },
      "execution_count": 5,
      "outputs": [
        {
          "output_type": "stream",
          "name": "stdout",
          "text": [
            "[[124]\n",
            " [ 95]\n",
            " [ 71]\n",
            " [ 45]\n",
            " [ 18]]\n"
          ]
        }
      ]
    },
    {
      "cell_type": "code",
      "source": [
        "x = np.ones((5,2))\n",
        "x[:,1] = price\n",
        "print(x)"
      ],
      "metadata": {
        "colab": {
          "base_uri": "https://localhost:8080/"
        },
        "id": "-W2ZAg7T-bpE",
        "outputId": "7add98d9-9051-4923-8d0a-6b6956506323"
      },
      "execution_count": 7,
      "outputs": [
        {
          "output_type": "stream",
          "name": "stdout",
          "text": [
            "[[  1.  49.]\n",
            " [  1.  69.]\n",
            " [  1.  89.]\n",
            " [  1.  99.]\n",
            " [  1. 109.]]\n"
          ]
        }
      ]
    },
    {
      "cell_type": "code",
      "source": [
        "x_transpose = np.transpose(x)"
      ],
      "metadata": {
        "id": "pQ7PSLlG-1Xt"
      },
      "execution_count": 8,
      "outputs": []
    },
    {
      "cell_type": "code",
      "source": [
        "parentesis = x_transpose.dot(x)\n",
        "print(parentesis)"
      ],
      "metadata": {
        "colab": {
          "base_uri": "https://localhost:8080/"
        },
        "id": "EWE_qGrC_Akc",
        "outputId": "0af19b8c-6923-4969-8dcb-4d2dd637807c"
      },
      "execution_count": 10,
      "outputs": [
        {
          "output_type": "stream",
          "name": "stdout",
          "text": [
            "[[5.0000e+00 4.1500e+02]\n",
            " [4.1500e+02 3.6765e+04]]\n"
          ]
        }
      ]
    },
    {
      "cell_type": "code",
      "source": [
        "x_inv = np.linalg.inv(parentesis)\n",
        "print(x_inv)"
      ],
      "metadata": {
        "colab": {
          "base_uri": "https://localhost:8080/"
        },
        "id": "obSRtaaQ_O7j",
        "outputId": "e433bb7d-9d4c-4a2c-a226-cd4f1c7665bc"
      },
      "execution_count": 14,
      "outputs": [
        {
          "output_type": "stream",
          "name": "stdout",
          "text": [
            "[[ 3.16939655e+00 -3.57758621e-02]\n",
            " [-3.57758621e-02  4.31034483e-04]]\n"
          ]
        }
      ]
    },
    {
      "cell_type": "code",
      "source": [
        "x_inv_x_trans = x_inv.dot(x_transpose)"
      ],
      "metadata": {
        "id": "aI-tXt0f_2IE"
      },
      "execution_count": 15,
      "outputs": []
    },
    {
      "cell_type": "code",
      "source": [
        "theta_pred = x_inv_x_trans.dot(y)\n",
        "print(theta_pred.shape)\n",
        "print(theta_pred)\n"
      ],
      "metadata": {
        "colab": {
          "base_uri": "https://localhost:8080/"
        },
        "id": "rnWmKhCwAApo",
        "outputId": "5704ffc6-bf0c-456e-e452-14fbdf7b45a6"
      },
      "execution_count": 17,
      "outputs": [
        {
          "output_type": "stream",
          "name": "stdout",
          "text": [
            "(2, 1)\n",
            "[[211.27068966]\n",
            " [ -1.69482759]]\n"
          ]
        }
      ]
    },
    {
      "cell_type": "markdown",
      "source": [
        "El modelo:\n",
        "\n",
        "$\\hat{y} = θ_{0} + \\theta_{1}x$\n",
        "\n",
        "$\\hat{y} = 211.27 -1.69x$"
      ],
      "metadata": {
        "id": "VYTc7tMEBll1"
      }
    },
    {
      "cell_type": "code",
      "source": [
        "y_pred = 211.27 - 1.69*price"
      ],
      "metadata": {
        "id": "9JY_cpzjBkr9"
      },
      "execution_count": 18,
      "outputs": []
    },
    {
      "cell_type": "code",
      "source": [
        "x_model = np.array([49,69,89,99,109])\n",
        "recta = 211.27 - 1.69*x_model"
      ],
      "metadata": {
        "id": "ioyBMXEICqwm"
      },
      "execution_count": 29,
      "outputs": []
    },
    {
      "cell_type": "code",
      "source": [
        "plt.plot(recta,label='modelo')\n",
        "plt.plot(demand,'.', label='demand')\n",
        "plt.plot(y_pred,'.', label='prediccion')\n",
        "plt.legend()\n",
        "plt.grid()\n",
        "plt.show()"
      ],
      "metadata": {
        "colab": {
          "base_uri": "https://localhost:8080/",
          "height": 265
        },
        "id": "A1OUeVBzCILO",
        "outputId": "71e22fda-53dc-47cd-fb28-f63fcaf249e6"
      },
      "execution_count": 30,
      "outputs": [
        {
          "output_type": "display_data",
          "data": {
            "text/plain": [
              "<Figure size 432x288 with 1 Axes>"
            ],
            "image/png": "[encoded data removed]"
          },
          "metadata": {
            "needs_background": "light"
          }
        }
      ]
    },
    {
      "cell_type": "code",
      "source": [
        "mse = 0\n",
        "for i in range(5):\n",
        "  mse = mse + ((y[i] - y_pred[i])**2)\n",
        "\n",
        "mse = mse / 5\n",
        "\n",
        "print(mse)\n"
      ],
      "metadata": {
        "colab": {
          "base_uri": "https://localhost:8080/"
        },
        "id": "-NM3ASH-DnLO",
        "outputId": "f77b021d-eb84-4aee-adc0-e85cf4642a15"
      },
      "execution_count": 32,
      "outputs": [
        {
          "output_type": "stream",
          "name": "stdout",
          "text": [
            "[41.1984]\n"
          ]
        }
      ]
    },
    {
      "cell_type": "code",
      "source": [
        "from sklearn.metrics import mean_squared_error as MSE"
      ],
      "metadata": {
        "id": "YWdulzdKEgeO"
      },
      "execution_count": 34,
      "outputs": []
    },
    {
      "cell_type": "code",
      "source": [
        "error = MSE(y,y_pred)\n",
        "print(error)"
      ],
      "metadata": {
        "colab": {
          "base_uri": "https://localhost:8080/"
        },
        "id": "-zrgUxQSEs7d",
        "outputId": "59f9f2a6-7425-447a-8937-2d87bbbb4b91"
      },
      "execution_count": 36,
      "outputs": [
        {
          "output_type": "stream",
          "name": "stdout",
          "text": [
            "41.198399999999964\n"
          ]
        }
      ]
    }
  ]
}